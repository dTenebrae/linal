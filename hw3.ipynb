{
 "cells": [
  {
   "cell_type": "markdown",
   "id": "august-nepal",
   "metadata": {},
   "source": [
    "# Линейные преобразования"
   ]
  },
  {
   "cell_type": "markdown",
   "id": "impaired-wright",
   "metadata": {},
   "source": [
    "__1.__ Найти собственные векторы и собственные значения для линейного оператора, заданного матрицей\n",
    "\n",
    "$$A=\\begin{pmatrix}\n",
    "-1 & -6\\\\ \n",
    "2 & 6\n",
    "\\end{pmatrix}.$$"
   ]
  },
  {
   "cell_type": "markdown",
   "id": "surface-enzyme",
   "metadata": {},
   "source": [
    "По определению,  \n",
    "*Ненулевой вектор , который при умножении на некоторую квадратную матрицу  превращается в самого же себя с числовым коэффициентом $\\lambda$, называется собственным вектором матрицы . Число $\\lambda$ называют собственным значением или собственным числом данной матрицы.*"
   ]
  },
  {
   "cell_type": "markdown",
   "id": "caroline-bookmark",
   "metadata": {},
   "source": [
    "Тогда, в нашем случае  \n",
    "\n",
    "$\\begin{pmatrix}\n",
    "-1 & -6\\\\ \n",
    "2 & 6\n",
    "\\end{pmatrix} \\cdot\n",
    "\\begin{pmatrix}\n",
    "x_1\\\\ \n",
    "x_2\n",
    "\\end{pmatrix} = \n",
    "\\lambda \\cdot \n",
    "\\begin{pmatrix}\n",
    "x_1\\\\ \n",
    "x_2\n",
    "\\end{pmatrix}$  \n",
    "\n",
    "$\\begin{pmatrix}\n",
    "-x_1-6x_2\\\\ \n",
    "2x_1+6x_2\n",
    "\\end{pmatrix}  = \n",
    "\\begin{pmatrix}\n",
    "\\lambda x_1\\\\ \n",
    "\\lambda x_2\n",
    "\\end{pmatrix}$  \n",
    "\n",
    "$\\begin{cases}\n",
    "-x_1-6x_2 = \\lambda x_1 \\\\ \n",
    "2x_1+6x_2 = \\lambda x_2\n",
    "\\end{cases} \\Rightarrow \n",
    "\\begin{cases}\n",
    "-x_1-6x_2 - \\lambda x_1 = 0 \\\\ \n",
    "2x_1+6x_2 - \\lambda x_2 = 0\n",
    "\\end{cases}\n",
    "\\Rightarrow $\n",
    "\n",
    "$$\\begin{cases}\n",
    "(-1- \\lambda)x_1-6x_2 = 0 \\\\ \n",
    "2x_1+(6-\\lambda)x_2 = 0\n",
    "\\end{cases}\n",
    "\\tag{1}$$ "
   ]
  },
  {
   "cell_type": "markdown",
   "id": "continued-breath",
   "metadata": {},
   "source": [
    "По определению, нас не устраивает нулевой вектор, следовательно $\\begin{pmatrix}x_1\\\\ x_2\\end{pmatrix} \\neq \\begin{pmatrix}0\\\\ 0\\end{pmatrix}$, поэтому тривиальное решение нашей системы уравнений нас не устраивает. Отсюда получается, что уравнения линейно зависимы, а значит определитель полученной матрицы должен быть равен нулю  \n",
    "\n",
    "$ \\begin{vmatrix}\n",
    "-1-\\lambda& -6 \\\\ \n",
    "2 & 6-\\lambda\n",
    "\\end{vmatrix} = 0 $  \n",
    "\n",
    "$(-1-\\lambda) \\cdot (6-\\lambda) - 2 \\cdot (-6) = 0 $  \n",
    "$\\lambda^2-5\\lambda+6 = 0 $  \n",
    "\n",
    "Решая это уравнения, например через дискриминант, получим собственные значения  \n",
    "\n",
    "$\\lambda_1 = 2$  \n",
    "$\\lambda_2 = 3$  \n",
    "\n",
    "Для нахождения собственных векторов подставим получившиеся значения в систему уравнений (1)  \n",
    "\n",
    "Для $\\lambda = 2$\n",
    "\n",
    "$\\begin{cases}\n",
    "(-1-2)x_1-6x_2 = 0 \\\\ \n",
    "2x_1+(6-2)x_2 = 0\n",
    "\\end{cases} \\Rightarrow \n",
    "\\begin{cases}\n",
    "-3x_1 = 6x_2 \\\\ \n",
    "2x_1 = -4x_2\n",
    "\\end{cases} \\Rightarrow x_1 = -2x_2\n",
    "$  \n",
    "\n",
    "Очевидно что векторов будет бесконечное множество, поэтому в качестве ответа можно выбрать вектор, для которого $x_2 = -1$, тогда $x_1 = 2$.  \n",
    "Или $\\begin{pmatrix}\n",
    "2\\\\ \n",
    "-1\n",
    "\\end{pmatrix}$\n",
    "\n",
    "Для $\\lambda = 3$\n",
    "\n",
    "$\\begin{cases}\n",
    "(-1-3)x_1-6x_2 = 0 \\\\ \n",
    "2x_1+(6-3)x_2 = 0\n",
    "\\end{cases} \\Rightarrow \n",
    "\\begin{cases}\n",
    "-4x_1 = 6x_2 \\\\ \n",
    "2x_1 = -3x_2\n",
    "\\end{cases} \\Rightarrow x_1 = -\\frac{3}{2}x_2\n",
    "$  \n",
    "\n",
    "Аналогично, $\\begin{pmatrix}\n",
    "3\\\\ \n",
    "-2\n",
    "\\end{pmatrix}$  \n",
    "\n",
    "__Ответ:__ Собственные значения $\\lambda_1 = 2$, $\\lambda_2 = 3$. Собственные вектора $\\begin{pmatrix}\n",
    "2\\\\ \n",
    "-1\n",
    "\\end{pmatrix}$, $\\begin{pmatrix}\n",
    "3\\\\ \n",
    "-2\n",
    "\\end{pmatrix}$"
   ]
  },
  {
   "cell_type": "markdown",
   "id": "thirty-lottery",
   "metadata": {},
   "source": [
    "___"
   ]
  },
  {
   "cell_type": "markdown",
   "id": "blind-enough",
   "metadata": {},
   "source": [
    "__2.__ Дан оператор поворота на 180 градусов, задаваемый матрицей \n",
    "\n",
    "$$A=\\begin{pmatrix}\n",
    "-1 & 0\\\\ \n",
    "0 & -1\n",
    "\\end{pmatrix}.$$\n",
    "\n",
    "Показать, что __любой__ вектор является для него собственным."
   ]
  },
  {
   "cell_type": "markdown",
   "id": "romance-bridges",
   "metadata": {},
   "source": [
    "Вышеприведенный оператор является произведением скаляра -1 на единичную матрицу. Известно, что произведение вектора на единичную матрицу дает тот же самый вектор, а значит операция умножения на этот оператор сводится к умножению любого вектора на скаляр -1. А значит любой вектор для этого оператора является собственным"
   ]
  },
  {
   "cell_type": "markdown",
   "id": "broke-consultancy",
   "metadata": {},
   "source": [
    "___"
   ]
  },
  {
   "cell_type": "markdown",
   "id": "employed-value",
   "metadata": {},
   "source": [
    "__3.__ Пусть линейный оператор задан матрицей\n",
    "\n",
    "$$A=\\begin{pmatrix}\n",
    "1 & 1\\\\ \n",
    "-1 & 3\n",
    "\\end{pmatrix}.$$\n",
    "\n",
    "Установить, является ли вектор $x=(1,1)$ собственным вектором этого линейного оператора."
   ]
  },
  {
   "cell_type": "markdown",
   "id": "final-columbus",
   "metadata": {},
   "source": [
    "$ \\begin{pmatrix}\n",
    "1 & 1\\\\ \n",
    "-1 & 3\n",
    "\\end{pmatrix} \n",
    "\\begin{pmatrix}\n",
    "1 \\\\ \n",
    "1 \n",
    "\\end{pmatrix} = \n",
    "\\lambda \\begin{pmatrix}\n",
    "1 \\\\ \n",
    "1 \n",
    "\\end{pmatrix}$  "
   ]
  },
  {
   "cell_type": "markdown",
   "id": "foster-share",
   "metadata": {},
   "source": [
    "\n",
    "$ \\begin{cases}\n",
    "1 + 1 = \\lambda \\\\ \n",
    "-1 + 3 = \\lambda\n",
    "\\end{cases} \\Rightarrow \\lambda = 2 $  \n",
    "\n",
    "А следовательно вектор x является собственным"
   ]
  },
  {
   "cell_type": "markdown",
   "id": "extensive-publicity",
   "metadata": {},
   "source": [
    "___"
   ]
  },
  {
   "cell_type": "markdown",
   "id": "referenced-allocation",
   "metadata": {},
   "source": [
    "__4.__ Пусть линейный оператор задан матрицей\n",
    "\n",
    "$$A=\\begin{pmatrix} 0 & 3 & 0\\\\ 3 & 0 & 0\\\\ 0 & 0 & 3 \\end{pmatrix}.$$\n",
    "\n",
    "Установить, является ли вектор $x=(3, -3, -4)$ собственным вектором этого линейного оператора."
   ]
  },
  {
   "cell_type": "markdown",
   "id": "inclusive-biology",
   "metadata": {},
   "source": [
    "$ \\begin{pmatrix} 0 & 3 & 0\\\\ 3 & 0 & 0\\\\ 0 & 0 & 3 \\end{pmatrix} \n",
    "\\begin{pmatrix} 3 \\\\ -3 \\\\ -4 \\end{pmatrix} = \n",
    "\\lambda \\begin{pmatrix} 3 \\\\ -3 \\\\ -4 \\end{pmatrix}$"
   ]
  },
  {
   "cell_type": "markdown",
   "id": "specified-machine",
   "metadata": {},
   "source": [
    "$ \\begin{cases}\n",
    "-9 = 3\\lambda \\\\ \n",
    "9 = -3\\lambda \\\\ \n",
    "-12 = -4\\lambda\n",
    "\\end{cases} $  \n",
    "\n",
    "Отсюда получается, что $\\lambda$ равна -3 и 3 одновременно, что не имеет смысла, а следовательно вектор собственным не является"
   ]
  }
 ],
 "metadata": {
  "kernelspec": {
   "display_name": "Python 3",
   "language": "python",
   "name": "python3"
  },
  "language_info": {
   "codemirror_mode": {
    "name": "ipython",
    "version": 3
   },
   "file_extension": ".py",
   "mimetype": "text/x-python",
   "name": "python",
   "nbconvert_exporter": "python",
   "pygments_lexer": "ipython3",
   "version": "3.8.8"
  },
  "varInspector": {
   "cols": {
    "lenName": 16,
    "lenType": 16,
    "lenVar": 40
   },
   "kernels_config": {
    "python": {
     "delete_cmd_postfix": "",
     "delete_cmd_prefix": "del ",
     "library": "var_list.py",
     "varRefreshCmd": "print(var_dic_list())"
    },
    "r": {
     "delete_cmd_postfix": ") ",
     "delete_cmd_prefix": "rm(",
     "library": "var_list.r",
     "varRefreshCmd": "cat(var_dic_list()) "
    }
   },
   "types_to_exclude": [
    "module",
    "function",
    "builtin_function_or_method",
    "instance",
    "_Feature"
   ],
   "window_display": false
  }
 },
 "nbformat": 4,
 "nbformat_minor": 5
}
