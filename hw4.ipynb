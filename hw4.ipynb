{
 "cells": [
  {
   "cell_type": "code",
   "execution_count": 1,
   "id": "central-dispatch",
   "metadata": {},
   "outputs": [],
   "source": [
    "import numpy as np\n",
    "import scipy\n",
    "import scipy.linalg"
   ]
  },
  {
   "cell_type": "markdown",
   "id": "communist-mistress",
   "metadata": {},
   "source": [
    "# Системы линейных уравнений. Часть 1"
   ]
  },
  {
   "cell_type": "markdown",
   "id": "egyptian-brazil",
   "metadata": {},
   "source": [
    "__1.__ Решить систему уравнений методом Гаусса:\n",
    "\n",
    "$$\\begin{cases}\n",
    "x_{1}+x_{2}-x_{3}-2x_{4}=0, \\\\\n",
    "2x_{1}+x_{2}-x_{3}+x_{4}=-2, \\\\\n",
    "x_{1}+x_{2}-3x_{3}+x_{4}=4.\n",
    "\\end{cases}$$"
   ]
  },
  {
   "cell_type": "markdown",
   "id": "golden-stephen",
   "metadata": {},
   "source": [
    "$$\\tilde{A}=\\begin{pmatrix}\n",
    "\\left.\\begin{matrix}\n",
    "1 & 1 & -1 & -2\\\\ \n",
    "2 & 1 & -1 & 1\\\\ \n",
    "1 & 1 & -3 & 1\n",
    "\\end{matrix}\\right|\n",
    "\\begin{matrix}\n",
    "0\\\\ \n",
    "-2\\\\\n",
    "4\n",
    "\\end{matrix}\n",
    "\\end{pmatrix}$$"
   ]
  },
  {
   "cell_type": "markdown",
   "id": "promising-pitch",
   "metadata": {},
   "source": [
    "Вычтем из 2й строки удвоенную первую\n",
    "\n",
    "$\\begin{pmatrix}\n",
    "\\left.\\begin{matrix}\n",
    "1 & 1 & -1 & -2\\\\ \n",
    "0 & -1 & 1 & 5\\\\ \n",
    "1 & 1 & -3 & 1\n",
    "\\end{matrix}\\right|\n",
    "\\begin{matrix}\n",
    "0\\\\ \n",
    "-2\\\\\n",
    "4\n",
    "\\end{matrix}\n",
    "\\end{pmatrix}$  \n",
    "\n",
    "Теперь из 3й первую  \n",
    "\n",
    "$\\begin{pmatrix}\n",
    "\\left.\\begin{matrix}\n",
    "1 & 1 & -1 & -2\\\\ \n",
    "0 & -1 & 1 & 5\\\\ \n",
    "0 & 0 & -2 & 3\n",
    "\\end{matrix}\\right|\n",
    "\\begin{matrix}\n",
    "0\\\\ \n",
    "-2\\\\\n",
    "4\n",
    "\\end{matrix}\n",
    "\\end{pmatrix}$  "
   ]
  },
  {
   "cell_type": "markdown",
   "id": "detailed-veteran",
   "metadata": {},
   "source": [
    "Получим систему уравнений вида  \n",
    "\n",
    "$$\\begin{cases}\n",
    "x_{1}+x_{2}-x_{3}-2x_{4}=0, \\\\\n",
    "-x_{2}+x_{3}+5x_{4}=-2, \\\\\n",
    "-2x_{3}+3x_{4}=4\n",
    "\\end{cases}$$"
   ]
  },
  {
   "cell_type": "markdown",
   "id": "intelligent-finding",
   "metadata": {},
   "source": [
    "Пусть $x_4 = c$. Тогда  \n",
    "\n",
    "$x_3 = \\frac{3c-4}{2}$  \n",
    "$x_2 = \\frac{3c-4}{2}+5c+2$  \n",
    "$x_1 = \\frac{3c-4}{2}+2c-(\\frac{3c-4}{2}+5c+2) = -3c-2 $  "
   ]
  },
  {
   "cell_type": "markdown",
   "id": "quarterly-mailman",
   "metadata": {},
   "source": [
    "___"
   ]
  },
  {
   "cell_type": "markdown",
   "id": "pediatric-mozambique",
   "metadata": {},
   "source": [
    "__2.__ Проверить на совместность и выяснить, сколько решений будет иметь система линейных уравнений:"
   ]
  },
  {
   "cell_type": "markdown",
   "id": "trying-genre",
   "metadata": {},
   "source": [
    "   а) $\\begin{cases}\n",
    "3x_{1}-x_{2}+x_{3}=4, \\\\\n",
    "2x_{1}-5x_{2}-3x_{3}=-17, \\\\\n",
    "x_{1}+x_{2}-x_{3}=0;\n",
    "\\end{cases}$\n",
    "    "
   ]
  },
  {
   "cell_type": "code",
   "execution_count": 2,
   "id": "wireless-declaration",
   "metadata": {},
   "outputs": [
    {
     "name": "stdout",
     "output_type": "stream",
     "text": [
      "[[ 3 -1  1]\n",
      " [ 2 -5 -3]\n",
      " [ 1  1 -1]] \n",
      "\n",
      "[[  3  -1   1   4]\n",
      " [  2  -5  -3 -17]\n",
      " [  1   1  -1   0]] \n",
      "\n",
      "Ранг матрицы: 3, Ранг расширенной матрицы: 3, Количество переменных: 3\n"
     ]
    }
   ],
   "source": [
    "a = np.array([3, -1, 1, 2, -5, -3, 1, 1, -1]).reshape(3, 3)\n",
    "b = np.array([4, -17, 0]).reshape(3, 1)\n",
    "c = np.concatenate((a, b), axis=1)\n",
    "print(a, '\\n')\n",
    "print(c, '\\n')\n",
    "print(f'Ранг матрицы: {np.linalg.matrix_rank(a)}, '\n",
    "      f'Ранг расширенной матрицы: {np.linalg.matrix_rank(c)}, '\n",
    "      f'Количество переменных: {a.shape[1]}')"
   ]
  },
  {
   "cell_type": "markdown",
   "id": "handed-attachment",
   "metadata": {},
   "source": [
    "По теореме Кроникера-Капелли система совместна и имеет единственное решение"
   ]
  },
  {
   "cell_type": "markdown",
   "id": "under-cannon",
   "metadata": {},
   "source": [
    "___"
   ]
  },
  {
   "cell_type": "markdown",
   "id": "intensive-brazil",
   "metadata": {},
   "source": [
    "   б) $\\begin{cases}\n",
    "2x_{1}-4x_{2}+6x_{3}=1, \\\\\n",
    "x_{1}-2x_{2}+3x_{3}=-2, \\\\\n",
    "3x_{1}-6x_{2}+9x_{3}=5;\n",
    "\\end{cases}$\n",
    "    "
   ]
  },
  {
   "cell_type": "code",
   "execution_count": 3,
   "id": "egyptian-baptist",
   "metadata": {},
   "outputs": [
    {
     "name": "stdout",
     "output_type": "stream",
     "text": [
      "[[ 2 -4  6]\n",
      " [ 1 -2  3]\n",
      " [ 3 -6  9]] \n",
      "\n",
      "[[ 2 -4  6  1]\n",
      " [ 1 -2  3 -2]\n",
      " [ 3 -6  9  5]] \n",
      "\n",
      "Ранг матрицы: 1, Ранг расширенной матрицы: 2, Количество переменных: 3\n"
     ]
    }
   ],
   "source": [
    "a = np.array([2, -4, 6, 1, -2, 3, 3, -6, 9]).reshape(3, 3)\n",
    "b = np.array([1, -2, 5]).reshape(3, 1)\n",
    "c = np.concatenate((a, b), axis=1)\n",
    "print(a, '\\n')\n",
    "print(c, '\\n')\n",
    "print(f'Ранг матрицы: {np.linalg.matrix_rank(a)}, '\n",
    "      f'Ранг расширенной матрицы: {np.linalg.matrix_rank(c)}, '\n",
    "      f'Количество переменных: {a.shape[1]}')"
   ]
  },
  {
   "cell_type": "markdown",
   "id": "czech-insertion",
   "metadata": {},
   "source": [
    "По теореме Кроникера-Капелли система несовместна"
   ]
  },
  {
   "cell_type": "markdown",
   "id": "distinct-trailer",
   "metadata": {},
   "source": [
    "___"
   ]
  },
  {
   "cell_type": "markdown",
   "id": "norwegian-davis",
   "metadata": {},
   "source": [
    "   в) $\\begin{cases}\n",
    "x_{1}+2x_{2}+5x_{3}=4, \\\\\n",
    "3x_{1}+x_{2}-8x_{3}=-2. \n",
    "\\end{cases}$"
   ]
  },
  {
   "cell_type": "code",
   "execution_count": 4,
   "id": "driving-begin",
   "metadata": {},
   "outputs": [
    {
     "name": "stdout",
     "output_type": "stream",
     "text": [
      "[[ 1  2  5]\n",
      " [ 3  1 -8]] \n",
      "\n",
      "[[ 1  2  5  4]\n",
      " [ 3  1 -8 -2]] \n",
      "\n",
      "Ранг матрицы: 2, Ранг расширенной матрицы: 2, Количество переменных: 3\n"
     ]
    }
   ],
   "source": [
    "a = np.array([1, 2, 5, 3, 1, -8]).reshape(2, 3)\n",
    "b = np.array([4, -2]).reshape(2, 1)\n",
    "c = np.concatenate((a, b), axis=1)\n",
    "print(a, '\\n')\n",
    "print(c, '\\n')\n",
    "print(f'Ранг матрицы: {np.linalg.matrix_rank(a)}, '\n",
    "      f'Ранг расширенной матрицы: {np.linalg.matrix_rank(c)}, '\n",
    "      f'Количество переменных: {a.shape[1]}')"
   ]
  },
  {
   "cell_type": "markdown",
   "id": "invalid-retail",
   "metadata": {},
   "source": [
    "По теореме Кроникера-Капелли система совместна и имеет бесконечное множество решений"
   ]
  },
  {
   "cell_type": "markdown",
   "id": "interesting-parent",
   "metadata": {},
   "source": [
    "___"
   ]
  },
  {
   "cell_type": "markdown",
   "id": "interstate-calculation",
   "metadata": {},
   "source": [
    "__3.__ Проверить на совместность и выяснить, сколько решений будет иметь система линейных уравнений, заданная расширенной матрицей\n",
    "\n",
    "$$\\tilde{A}=\\begin{pmatrix}\n",
    "\\left.\\begin{matrix}\n",
    "1 & 3 & -2 & 4\\\\ \n",
    "0 & 5 & 0 & 1\\\\ \n",
    "0 & 0 & 3 & 0\\\\ \n",
    "0 & 0 & 0 & 2\n",
    "\\end{matrix}\\right|\n",
    "\\begin{matrix}\n",
    "3\\\\ \n",
    "2\\\\\n",
    "4\\\\\n",
    "1\n",
    "\\end{matrix}\n",
    "\\end{pmatrix}.$$"
   ]
  },
  {
   "cell_type": "code",
   "execution_count": 5,
   "id": "administrative-neighbor",
   "metadata": {},
   "outputs": [
    {
     "name": "stdout",
     "output_type": "stream",
     "text": [
      "[[ 1  3 -2  4]\n",
      " [ 0  5  0  1]\n",
      " [ 0  0  3  0]\n",
      " [ 0  0  0  2]] \n",
      "\n",
      "[[ 1  3 -2  4  3]\n",
      " [ 0  5  0  1  2]\n",
      " [ 0  0  3  0  4]\n",
      " [ 0  0  0  2  1]] \n",
      "\n",
      "Ранг матрицы:4, Ранг расширенной матрицы: 4, Количество переменных: 4\n"
     ]
    }
   ],
   "source": [
    "a = np.array([1, 3, -2, 4, 0, 5, 0, 1, 0, 0, 3, 0, 0, 0, 0, 2]).reshape(4, 4)\n",
    "b = np.array([3, 2, 4, 1]).reshape(4, 1)\n",
    "c = np.concatenate((a, b), axis=1)\n",
    "print(a, '\\n')\n",
    "print(c, '\\n')\n",
    "print(f'Ранг матрицы:{np.linalg.matrix_rank(a)}, '\n",
    "      f'Ранг расширенной матрицы: {np.linalg.matrix_rank(c)}, '\n",
    "      f'Количество переменных: {a.shape[1]}')"
   ]
  },
  {
   "cell_type": "markdown",
   "id": "charitable-buddy",
   "metadata": {},
   "source": [
    "По теореме Кроникера-Капелли система совместна и имеет единственное решение"
   ]
  },
  {
   "cell_type": "markdown",
   "id": "wicked-toddler",
   "metadata": {},
   "source": [
    "___"
   ]
  },
  {
   "cell_type": "markdown",
   "id": "clean-agent",
   "metadata": {},
   "source": [
    "__4.__ Дана система линейных уравнений, заданная расширенной матрицей\n",
    "\n",
    "$$\\tilde{A}=\\begin{pmatrix}\n",
    "\\left.\\begin{matrix}\n",
    "1 & 2 & 3\\\\ \n",
    "4 & 5 & 6\\\\ \n",
    "7 & 8 & 9\n",
    "\\end{matrix}\\right|\n",
    "\\begin{matrix}\n",
    "a\\\\ \n",
    "b\\\\\n",
    "c\n",
    "\\end{matrix}\n",
    "\\end{pmatrix}.$$\n",
    "\n",
    "Найти соотношение между параметрами $a$, $b$ и $c$, при которых система является несовместной."
   ]
  },
  {
   "cell_type": "markdown",
   "id": "israeli-spirituality",
   "metadata": {},
   "source": [
    "Вычтем из 2й строки удвоенную первую, из 3й строки утроенную первую\n",
    "\n",
    "$\\begin{pmatrix}\n",
    "\\left.\\begin{matrix}\n",
    "1 & 2 & 3\\\\ \n",
    "2 & 1 & 0\\\\ \n",
    "4 & 2 & 0\n",
    "\\end{matrix}\\right|\n",
    "\\begin{matrix}\n",
    "a\\\\ \n",
    "b-2a\\\\\n",
    "c-3a\n",
    "\\end{matrix}\n",
    "\\end{pmatrix}\n",
    "$  \n",
    "\n",
    "Теперь из 3й строки вычтем удвоенную вторую  \n",
    "\n",
    "$\\begin{pmatrix}\n",
    "\\left.\\begin{matrix}\n",
    "1 & 2 & 3\\\\ \n",
    "2 & 1 & 0\\\\ \n",
    "0 & 0 & 0\n",
    "\\end{matrix}\\right|\n",
    "\\begin{matrix}\n",
    "a\\\\ \n",
    "b-2a\\\\\n",
    "c-3a-2(b-2a)\n",
    "\\end{matrix}\n",
    "\\end{pmatrix}\n",
    " = \n",
    " \\begin{pmatrix}\n",
    "\\left.\\begin{matrix}\n",
    "1 & 2 & 3\\\\ \n",
    "2 & 1 & 0\\\\ \n",
    "0 & 0 & 0\n",
    "\\end{matrix}\\right|\n",
    "\\begin{matrix}\n",
    "a\\\\ \n",
    "b-2a\\\\\n",
    "c-2b+a\n",
    "\\end{matrix}\n",
    "\\end{pmatrix}$  "
   ]
  },
  {
   "cell_type": "markdown",
   "id": "otherwise-tuner",
   "metadata": {},
   "source": [
    "Отсюда можно сделать вывод, что при $c-2b+a \\neq 0$ система несовместна"
   ]
  },
  {
   "cell_type": "markdown",
   "id": "excess-elimination",
   "metadata": {},
   "source": [
    "# Системы линейных уравнений. Часть 2"
   ]
  },
  {
   "cell_type": "markdown",
   "id": "grave-incentive",
   "metadata": {},
   "source": [
    "__1.__ Решить систему уравнений методом Крамера:\n",
    "\n",
    "   а) $\\begin{cases}\n",
    "x_{1}-2x_{2}=1 \\\\\n",
    "3x_{1}-4x_{2}=7\n",
    "\\end{cases}$\n",
    "    "
   ]
  },
  {
   "cell_type": "code",
   "execution_count": 6,
   "id": "restricted-economy",
   "metadata": {},
   "outputs": [
    {
     "name": "stdout",
     "output_type": "stream",
     "text": [
      "Значение x1: 5.0\n",
      "Значение x2: 2.0\n"
     ]
    }
   ],
   "source": [
    "a = np.array([1, -2, 3, -4]).reshape(2, 2)\n",
    "b = np.array([1, 7]).reshape(2, 1)\n",
    "x1 = np.around(np.linalg.det(np.concatenate((b, a[:, -1].reshape(2, 1)), \n",
    "                                            axis=1)) / np.linalg.det(a))\n",
    "x2 = np.around(np.linalg.det(np.concatenate((a[:, 0].reshape(2, 1), b), \n",
    "                                            axis=1)) / np.linalg.det(a))\n",
    "print(f'Значение x1: {x1}\\nЗначение x2: {x2}')"
   ]
  },
  {
   "cell_type": "markdown",
   "id": "dying-parking",
   "metadata": {},
   "source": [
    "   б) $\\begin{cases}\n",
    "2x_{1}-x_{2}+5x_{3}=10 \\\\\n",
    "x_{1}+x_{2}-3x_{3}=-2 \\\\\n",
    "2x_{1}+4x_{2}+x_{3}=1\n",
    "\\end{cases}$"
   ]
  },
  {
   "cell_type": "code",
   "execution_count": 7,
   "id": "rental-fisher",
   "metadata": {},
   "outputs": [
    {
     "name": "stdout",
     "output_type": "stream",
     "text": [
      "Значение x1: 2.0\n",
      "Значение x2: -1.0\n",
      "Значение x3: 1.0\n"
     ]
    }
   ],
   "source": [
    "a = np.array([2, -1, 5, 1, 1, -3, 2, 4, 1]).reshape(3, 3)\n",
    "b = np.array([10, -2, 1]).reshape(3, 1)\n",
    "x1 = np.around(np.linalg.det(np.concatenate((b, a[:, 1:]), \n",
    "                                            axis=1)) / np.linalg.det(a))\n",
    "x2 = np.around(np.linalg.det(np.concatenate((a[:, :1], b, a[:, 2:]), \n",
    "                                            axis=1)) / np.linalg.det(a))\n",
    "x3 = np.around(np.linalg.det(np.concatenate((a[:, :2], b,), \n",
    "                                            axis=1)) / np.linalg.det(a))\n",
    "print(f'Значение x1: {x1}\\nЗначение x2: {x2}\\nЗначение x3: {x3}')"
   ]
  },
  {
   "cell_type": "markdown",
   "id": "quality-borough",
   "metadata": {},
   "source": [
    "___"
   ]
  },
  {
   "cell_type": "markdown",
   "id": "armed-boston",
   "metadata": {},
   "source": [
    "__2*.__ Найти $L$-матрицу $LU$-разложения для матрицы коэффициентов:\n",
    "\n",
    "   а)$$\\begin{pmatrix}\n",
    "1 & 2 & 4 \\\\ \n",
    "2 & 9 & 12 \\\\ \n",
    "3 & 26 & 30\n",
    "\\end{pmatrix}$$\n",
    "    "
   ]
  },
  {
   "cell_type": "markdown",
   "id": "supposed-pearl",
   "metadata": {},
   "source": [
    "Получим матрицу U\n",
    "\n",
    "$\\begin{pmatrix}\n",
    "1 & 2 & 4 \\\\ \n",
    "2 & 9 & 12 \\\\ \n",
    "3 & 26 & 30\n",
    "\\end{pmatrix}\\{стр_2 - 2стр_1\\} \\Rightarrow $  \n",
    "\n",
    "$\\begin{pmatrix}\n",
    "1 & 2 & 4 \\\\ \n",
    "0 & 5 & 4 \\\\ \n",
    "3 & 26 & 30\n",
    "\\end{pmatrix}\\{стр_3 - 3стр_1\\} \\Rightarrow $  \n",
    "\n",
    "$\\begin{pmatrix}\n",
    "1 & 2 & 4 \\\\ \n",
    "0 & 5 & 4 \\\\ \n",
    "0 & 20 & 18\n",
    "\\end{pmatrix}\\{стр_3 - 4стр_2\\} \\Rightarrow $  \n",
    "\n",
    "$$ U = \\begin{pmatrix}\n",
    "1 & 2 & 4 \\\\ \n",
    "0 & 5 & 4 \\\\ \n",
    "0 & 0 & 2\n",
    "\\end{pmatrix} $$\n",
    "\n",
    "Очевидно, что матрица L будет иметь вид  \n",
    "\n",
    "$$ L = \\begin{pmatrix}\n",
    "1 & 0 & 0\\\\ \n",
    "2 & 1 & 0\\\\ \n",
    "3 & 4 & 1\n",
    "\\end{pmatrix} $$"
   ]
  },
  {
   "cell_type": "code",
   "execution_count": 16,
   "id": "instant-nickel",
   "metadata": {},
   "outputs": [
    {
     "data": {
      "text/plain": [
       "array([[ 1,  2,  4],\n",
       "       [ 2,  9, 12],\n",
       "       [ 3, 26, 30]])"
      ]
     },
     "execution_count": 16,
     "metadata": {},
     "output_type": "execute_result"
    }
   ],
   "source": [
    "l = np.array([1, 0, 0, 2, 1, 0, 3, 4, 1]).reshape(3, 3)\n",
    "u = np.array([1, 2, 4, 0, 5, 4, 0, 0, 2]).reshape(3, 3)\n",
    "l @ u"
   ]
  },
  {
   "cell_type": "markdown",
   "id": "supreme-nirvana",
   "metadata": {},
   "source": [
    "   б)$$\\begin{pmatrix}\n",
    "1 & 1 & 2 & 4\\\\ \n",
    "2 & 5 & 8 & 9\\\\ \n",
    "3 & 18 & 29 & 18\\\\\n",
    "4 & 22 & 53 & 33\n",
    "\\end{pmatrix}$$\n",
    "    "
   ]
  },
  {
   "cell_type": "markdown",
   "id": "august-mapping",
   "metadata": {},
   "source": [
    "Получим матрицу U\n",
    "\n",
    "$\\begin{pmatrix}\n",
    "1 & 1 & 2 & 4\\\\ \n",
    "2 & 5 & 8 & 9\\\\ \n",
    "3 & 18 & 29 & 18\\\\\n",
    "4 & 22 & 53 & 33\n",
    "\\end{pmatrix}\\{стр_2 - 2стр_1\\} \\Rightarrow $  \n",
    "\n",
    "$\\begin{pmatrix}\n",
    "1 & 1 & 2 & 4\\\\ \n",
    "0 & 3 & 4 & 1\\\\ \n",
    "3 & 18 & 29 & 18\\\\\n",
    "4 & 22 & 53 & 33\n",
    "\\end{pmatrix}\\{стр_3 - 3стр_1\\} \\Rightarrow $  \n",
    "\n",
    "$\\begin{pmatrix}\n",
    "1 & 1 & 2 & 4\\\\ \n",
    "0 & 3 & 4 & 1\\\\  \n",
    "0 & 15 & 23 & 6\\\\\n",
    "4 & 22 & 53 & 33\n",
    "\\end{pmatrix}\\{стр_4 - 4стр_1\\} \\Rightarrow $  \n",
    "\n",
    "$\\begin{pmatrix}\n",
    "1 & 1 & 2 & 4\\\\ \n",
    "0 & 3 & 4 & 1\\\\ \n",
    "0 & 15 & 23 & 6\\\\\n",
    "0 & 18 & 45 & 17\n",
    "\\end{pmatrix}\\{стр_3 - 5стр_2\\} \\Rightarrow $  \n",
    "\n",
    "$\\begin{pmatrix}\n",
    "1 & 1 & 2 & 4\\\\ \n",
    "0 & 3 & 4 & 1\\\\ \n",
    "0 & 0 & 3 & 1\\\\\n",
    "0 & 18 & 45 & 17\n",
    "\\end{pmatrix}\\{стр_4 - 6стр_2\\} \\Rightarrow $  \n",
    "\n",
    "$\\begin{pmatrix}\n",
    "1 & 1 & 2 & 4\\\\ \n",
    "0 & 3 & 4 & 1\\\\ \n",
    "0 & 0 & 3 & 1\\\\\n",
    "0 & 0 & 21 & 11\n",
    "\\end{pmatrix}\\{стр_4 - 7стр_3\\} \\Rightarrow $  \n",
    "\n",
    "$$ U = \\begin{pmatrix}\n",
    "1 & 1 & 2 & 4\\\\ \n",
    "0 & 3 & 4 & 1\\\\ \n",
    "0 & 0 & 3 & 1\\\\\n",
    "0 & 0 & 0 & 4\n",
    "\\end{pmatrix} $$\n",
    "\n",
    "Очевидно, что матрица L будет иметь вид  \n",
    "\n",
    "$$ L = \\begin{pmatrix}\n",
    "1 & 0 & 0 & 0\\\\ \n",
    "2 & 1 & 0 & 0\\\\ \n",
    "3 & 5 & 1 & 0\\\\\n",
    "4 & 6 & 7 & 1\n",
    "\\end{pmatrix} $$"
   ]
  },
  {
   "cell_type": "code",
   "execution_count": 17,
   "id": "informational-syria",
   "metadata": {},
   "outputs": [
    {
     "data": {
      "text/plain": [
       "array([[ 1,  1,  2,  4],\n",
       "       [ 2,  5,  8,  9],\n",
       "       [ 3, 18, 29, 18],\n",
       "       [ 4, 22, 53, 33]])"
      ]
     },
     "execution_count": 17,
     "metadata": {},
     "output_type": "execute_result"
    }
   ],
   "source": [
    "l = np.array([1, 0, 0, 0, 2, 1, 0, 0, 3, 5, 1, 0, 4, 6, 7, 1]).reshape(4, 4)\n",
    "u = np.array([1, 1, 2, 4, 0, 3, 4, 1, 0, 0, 3, 1, 0, 0, 0, 4]).reshape(4, 4)\n",
    "l @ u"
   ]
  },
  {
   "cell_type": "markdown",
   "id": "incident-pacific",
   "metadata": {},
   "source": [
    "___"
   ]
  },
  {
   "cell_type": "markdown",
   "id": "southwest-usage",
   "metadata": {},
   "source": [
    "__3*.__ Решить систему линейных уравнений методом $LU$-разложения\n",
    "\n",
    "$$\\begin{cases}\n",
    "2x_{1}+x_{2}+3x_{3}=1 \\\\\n",
    "11x_{1}+7x_{2}+5x_{3}=-6 \\\\\n",
    "9x_{1}+8x_{2}+4x_{3}=-5\n",
    "\\end{cases}$$"
   ]
  },
  {
   "cell_type": "markdown",
   "id": "imperial-treasury",
   "metadata": {},
   "source": [
    "Матрица коэффициентов $A$ будет иметь вид  \n",
    "\n",
    "$\\begin{pmatrix}\n",
    "2 & 1 & 3\\\\ \n",
    "11 & 7 & 5\\\\ \n",
    "9 & 8 & 4\n",
    "\\end{pmatrix}$"
   ]
  },
  {
   "cell_type": "markdown",
   "id": "killing-cigarette",
   "metadata": {},
   "source": [
    "Получим матрицу U\n",
    "\n",
    "$\\begin{pmatrix}\n",
    "2 & 1 & 3\\\\ \n",
    "11 & 7 & 5\\\\ \n",
    "9 & 8 & 4\n",
    "\\end{pmatrix}\\{стр_2 - \\frac{11}{2}стр_1\\} \\Rightarrow $  \n",
    "\n",
    "$\\begin{pmatrix}\n",
    "2 & 1 & 3\\\\ \n",
    "0 & \\frac{3}{2} & -\\frac{23}{2}\\\\ \n",
    "9 & 8 & 4\n",
    "\\end{pmatrix}\\{стр_3 - \\frac{9}{2}стр_1\\} \\Rightarrow $  \n",
    "\n",
    "$\\begin{pmatrix}\n",
    "2 & 1 & 3\\\\ \n",
    "0 & \\frac{3}{2} & -\\frac{23}{2}\\\\ \n",
    "0 & \\frac{7}{2} & -\\frac{19}{2}\n",
    "\\end{pmatrix}\\{стр_3 - \\frac{7}{3}стр_2\\} \\Rightarrow $  \n",
    "\n",
    "$$ U = \\begin{pmatrix}\n",
    "2 & 1 & 3\\\\ \n",
    "0 & \\frac{3}{2} & -\\frac{23}{2}\\\\ \n",
    "0 & 0 & \\frac{52}{3}\n",
    "\\end{pmatrix} $$\n",
    "\n",
    "Очевидно, что матрица L будет иметь вид  \n",
    "\n",
    "$$ L = \\begin{pmatrix}\n",
    "1 & 0 & 0\\\\ \n",
    "\\frac{11}{2} & 1 & 0\\\\ \n",
    "\\frac{9}{2} & \\frac{7}{3} & 1\n",
    "\\end{pmatrix} $$"
   ]
  },
  {
   "cell_type": "code",
   "execution_count": 10,
   "id": "ethical-resource",
   "metadata": {},
   "outputs": [
    {
     "data": {
      "text/plain": [
       "array([[ 2.,  1.,  3.],\n",
       "       [11.,  7.,  5.],\n",
       "       [ 9.,  8.,  4.]])"
      ]
     },
     "execution_count": 10,
     "metadata": {},
     "output_type": "execute_result"
    }
   ],
   "source": [
    "# проверим полученные матрицы\n",
    "l = np.array([1, 0, 0, 11 / 2, 1, 0, 9 / 2, 7 / 3, 1]).reshape(3, 3)\n",
    "u = np.array([2, 1, 3, 0, 3 / 2, -23 / 2, 0, 0, 52 / 3]).reshape(3, 3)\n",
    "l @ u"
   ]
  },
  {
   "cell_type": "markdown",
   "id": "radio-gilbert",
   "metadata": {},
   "source": [
    "Решим теперь систему \n",
    "\n",
    "$$Ly=b:$$\n",
    "\n",
    "$$\\begin{cases}\n",
    "y_{1}=1, \\\\\n",
    "\\frac{11}{2}y_{1}+y_{2}=-6, \\\\\n",
    "\\frac{9}{2}y_{1}+\\frac{7}{3}y_{2}+y_{3}=-5\n",
    "\\end{cases}$$\n",
    "\n",
    "$$y_{1}=1,$$\n",
    "$$y_{2}=-\\frac{23}{2},$$\n",
    "$$y_{3}=\\frac{52}{3}.$$\n",
    "\n",
    "И затем систему\n",
    "\n",
    "$$Ux=y:$$\n",
    "\n",
    "$$\\begin{cases}\n",
    "2x_{1}+x_{2}+3x_{3}=1, \\\\\n",
    "\\frac{3}{2}x_{2}-\\frac{23}{2}x_{3}=-\\frac{23}{2}, \\\\\n",
    "\\frac{52}{3}x_{3}=\\frac{52}{3}.\n",
    "\\end{cases}$$\n",
    "\n",
    "$$x_{3}=1,$$\n",
    "$$x_{2}=0,$$\n",
    "$$x_{1}=-1.$$  \n",
    "\n",
    "__Ответ:__ $x_1 = -1, x_2 = 0, x_3 = 1$"
   ]
  },
  {
   "cell_type": "code",
   "execution_count": 11,
   "id": "severe-payment",
   "metadata": {},
   "outputs": [
    {
     "data": {
      "text/plain": [
       "array([[-1.00000000e+00],\n",
       "       [ 2.44249065e-16],\n",
       "       [ 1.00000000e+00]])"
      ]
     },
     "execution_count": 11,
     "metadata": {},
     "output_type": "execute_result"
    }
   ],
   "source": [
    "a = np.array([2, 1, 3, 11, 7, 5, 9, 8, 4]).reshape(3, 3)\n",
    "b = np.array([1, -6, -5]).reshape(3, 1)\n",
    "np.linalg.solve(a, b)"
   ]
  },
  {
   "cell_type": "markdown",
   "id": "separated-jason",
   "metadata": {},
   "source": [
    "___"
   ]
  },
  {
   "cell_type": "markdown",
   "id": "theoretical-guess",
   "metadata": {},
   "source": [
    "__4*.__ Решить систему линейных уравнений методом Холецкого\n",
    "\n",
    "$$\\begin{cases}\n",
    "81x_{1}-45x_{2}+45x_{3}=531 \\\\\n",
    "-45x_{1}+50x_{2}-15x_{3}=-460 \\\\\n",
    "45x_{1}-15x_{2}+38x_{3}=193\n",
    "\\end{cases}$$"
   ]
  },
  {
   "cell_type": "code",
   "execution_count": 12,
   "id": "average-pencil",
   "metadata": {},
   "outputs": [
    {
     "data": {
      "text/plain": [
       "array([[ 6.],\n",
       "       [-5.],\n",
       "       [-4.]])"
      ]
     },
     "execution_count": 12,
     "metadata": {},
     "output_type": "execute_result"
    }
   ],
   "source": [
    "a = np.array([81, -45, 45, -45, 50, -15, 45, -15, 38]).reshape(3, 3)\n",
    "b = np.array([531, -460, 193]).reshape(3, 1)\n",
    "c, low = scipy.linalg.cho_factor(a)\n",
    "scipy.linalg.cho_solve((c, low), b)"
   ]
  },
  {
   "cell_type": "markdown",
   "id": "lasting-vampire",
   "metadata": {},
   "source": [
    "__5*.__ Написать на Python программу с реализацией одного из изученных алгоритмов решения СЛАУ."
   ]
  },
  {
   "cell_type": "code",
   "execution_count": 21,
   "id": "upper-profession",
   "metadata": {},
   "outputs": [
    {
     "name": "stdout",
     "output_type": "stream",
     "text": [
      "[[ 1  1  2  4]\n",
      " [ 2  5  8  9]\n",
      " [ 3 18 29 18]\n",
      " [ 4 22 53 33]]\n",
      "[[1. 1. 2. 4.]\n",
      " [2. 3. 4. 1.]\n",
      " [3. 5. 3. 1.]\n",
      " [4. 6. 7. 4.]]\n",
      "[[1. 0. 0. 0.]\n",
      " [2. 1. 0. 0.]\n",
      " [3. 5. 1. 0.]\n",
      " [4. 6. 7. 1.]]\n",
      "[[1. 1. 2. 4.]\n",
      " [0. 3. 4. 1.]\n",
      " [0. 0. 3. 1.]\n",
      " [0. 0. 0. 4.]]\n",
      "[[ 1.  1.  2.  4.]\n",
      " [ 2.  5.  8.  9.]\n",
      " [ 3. 18. 29. 18.]\n",
      " [ 4. 22. 53. 33.]]\n"
     ]
    }
   ],
   "source": [
    "class LUClass:\n",
    "    def __init__(self, matrix):\n",
    "        self.start_matrix = matrix\n",
    "        n = matrix.shape[0]\n",
    "        lu_mtx = np.zeros([n, n])\n",
    "        for k in range(n):\n",
    "            for j in range(k, n):\n",
    "                lu_mtx[k, j] = self.start_matrix[k, j] - lu_mtx[k, :k] @ lu_mtx[:k, j]\n",
    "            for i in range(k + 1, n):\n",
    "                lu_mtx[i, k] = (self.start_matrix[i, k] - lu_mtx[i, :k] @ lu_mtx[:k, k]) / lu_mtx[k, k]\n",
    "        self.lu_matrix = lu_mtx\n",
    "\n",
    "    def l_matrix(self):\n",
    "        l_mtx = self.lu_matrix.copy()\n",
    "        for i in range(l_mtx.shape[0]):\n",
    "            for j in range(l_mtx.shape[0]):\n",
    "                if i == j:\n",
    "                    l_mtx[i, j] = 1\n",
    "                elif i < j:\n",
    "                    l_mtx[i, j] = 0\n",
    "        return l_mtx\n",
    "\n",
    "    def u_matrix(self):\n",
    "        u_mtx = self.lu_matrix.copy()\n",
    "        for i in range(u_mtx.shape[0]):\n",
    "            for j in range(u_mtx.shape[0]):\n",
    "                if i > j:\n",
    "                    u_mtx[i, j] = 0\n",
    "        return u_mtx\n",
    "\n",
    "\n",
    "new_lu = LUClass(np.array([1, 1, 2, 4, 2, 5, 8, 9, \n",
    "                           3, 18, 29, 18, 4, 22, 53, 33]).reshape(4, 4))\n",
    "print(new_lu.start_matrix)\n",
    "print(new_lu.lu_matrix)\n",
    "print(new_lu.l_matrix())\n",
    "print(new_lu.u_matrix())\n",
    "print(new_lu.l_matrix() @ new_lu.u_matrix())"
   ]
  },
  {
   "cell_type": "code",
   "execution_count": null,
   "id": "stable-dictionary",
   "metadata": {},
   "outputs": [],
   "source": []
  },
  {
   "cell_type": "code",
   "execution_count": null,
   "id": "thirty-piece",
   "metadata": {},
   "outputs": [],
   "source": []
  },
  {
   "cell_type": "code",
   "execution_count": null,
   "id": "palestinian-tomorrow",
   "metadata": {},
   "outputs": [],
   "source": []
  },
  {
   "cell_type": "code",
   "execution_count": null,
   "id": "reduced-destruction",
   "metadata": {},
   "outputs": [],
   "source": []
  },
  {
   "cell_type": "code",
   "execution_count": null,
   "id": "polar-laundry",
   "metadata": {},
   "outputs": [],
   "source": []
  },
  {
   "cell_type": "code",
   "execution_count": null,
   "id": "hollow-alexander",
   "metadata": {},
   "outputs": [],
   "source": []
  },
  {
   "cell_type": "code",
   "execution_count": null,
   "id": "aboriginal-incentive",
   "metadata": {},
   "outputs": [],
   "source": []
  },
  {
   "cell_type": "code",
   "execution_count": null,
   "id": "bronze-carter",
   "metadata": {},
   "outputs": [],
   "source": []
  },
  {
   "cell_type": "code",
   "execution_count": null,
   "id": "deluxe-aberdeen",
   "metadata": {},
   "outputs": [],
   "source": []
  },
  {
   "cell_type": "code",
   "execution_count": null,
   "id": "fantastic-cleaning",
   "metadata": {},
   "outputs": [],
   "source": []
  },
  {
   "cell_type": "code",
   "execution_count": null,
   "id": "promotional-suicide",
   "metadata": {},
   "outputs": [],
   "source": []
  }
 ],
 "metadata": {
  "kernelspec": {
   "display_name": "Python 3",
   "language": "python",
   "name": "python3"
  },
  "language_info": {
   "codemirror_mode": {
    "name": "ipython",
    "version": 3
   },
   "file_extension": ".py",
   "mimetype": "text/x-python",
   "name": "python",
   "nbconvert_exporter": "python",
   "pygments_lexer": "ipython3",
   "version": "3.8.8"
  },
  "varInspector": {
   "cols": {
    "lenName": 16,
    "lenType": 16,
    "lenVar": 40
   },
   "kernels_config": {
    "python": {
     "delete_cmd_postfix": "",
     "delete_cmd_prefix": "del ",
     "library": "var_list.py",
     "varRefreshCmd": "print(var_dic_list())"
    },
    "r": {
     "delete_cmd_postfix": ") ",
     "delete_cmd_prefix": "rm(",
     "library": "var_list.r",
     "varRefreshCmd": "cat(var_dic_list()) "
    }
   },
   "types_to_exclude": [
    "module",
    "function",
    "builtin_function_or_method",
    "instance",
    "_Feature"
   ],
   "window_display": false
  }
 },
 "nbformat": 4,
 "nbformat_minor": 5
}
