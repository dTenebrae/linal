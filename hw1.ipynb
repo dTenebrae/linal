{
 "cells": [
  {
   "cell_type": "code",
   "execution_count": 1,
   "id": "continued-round",
   "metadata": {},
   "outputs": [],
   "source": [
    "import numpy as np\n",
    "from numpy.linalg import norm"
   ]
  },
  {
   "cell_type": "markdown",
   "id": "lovely-shopping",
   "metadata": {},
   "source": [
    "# Линейное пространство. Основные понятия. Часть 1"
   ]
  },
  {
   "cell_type": "markdown",
   "id": "prescription-passion",
   "metadata": {},
   "source": [
    "__1.__ Исследовать на линейную зависимость:\n",
    "\n",
    "$$ f_{1}(x)=e^{x}, $$\n",
    "$$ f_{2}(x)=1, $$\n",
    "$$ f_{3}(x)=x+1, $$\n",
    "$$ f_{4}(x)=x-e^{x}.$$"
   ]
  },
  {
   "cell_type": "markdown",
   "id": "sunset-salvation",
   "metadata": {},
   "source": [
    "Несложно увидеть, что  \n",
    "\n",
    "$$ f_4(x) = f_3(x)-f_2(x)-f_1(x) = (x+1)-1-e^x = x-e^x $$  \n",
    "\n",
    "А значит вектора линейно зависимы"
   ]
  },
  {
   "cell_type": "markdown",
   "id": "numerous-industry",
   "metadata": {},
   "source": [
    "___"
   ]
  },
  {
   "cell_type": "markdown",
   "id": "visible-cancer",
   "metadata": {},
   "source": [
    "__2.__ Исследовать на линейную зависимость:\n",
    "$$ f_{1}(x)=2, $$\n",
    "$$ f_{2}(x)=x, $$\n",
    "$$ f_{3}(x)=x^{2}, $$\n",
    "$$ f_{4}(x)=(x+1)^{2}.$$"
   ]
  },
  {
   "cell_type": "markdown",
   "id": "cloudy-digit",
   "metadata": {},
   "source": [
    "Опять же, несложно показать, что  \n",
    "\n",
    "$ f_4(x) = (x+1)^2 = x^2+2x+1 = f_3(x)+2f_2(x)+\\frac{f_1(x)}{2} $  \n",
    "\n",
    "Следовательно, вектора линейно зависимы  \n",
    "\n",
    "Через тождество:  \n",
    "$ \\lambda_1 \\cdot f_1(x) + \\lambda_2 \\cdot f_2(x) + \\lambda_3 \\cdot f_3(x) + \\lambda_4 \\cdot f_4(x) = 0 $  \n",
    "$ \\lambda_1 \\cdot 2 + \\lambda_2 \\cdot x + \\lambda_3 \\cdot x^2 + \\lambda_4 \\cdot (x+1)^2 = 0 $  \n",
    "$ \\lambda_1 \\cdot 2 + \\lambda_2 \\cdot x + \\lambda_3 \\cdot x^2 + \\lambda_4 \\cdot (x^2+2x+1) = 0 $  \n",
    "$ (\\lambda_3 + \\lambda_4) x^2 + (\\lambda_2 + 2\\lambda_4) x + (2\\lambda_1 + \\lambda_4) = 0 $  \n",
    "\n",
    "$ \\begin{cases}\n",
    "\\lambda_3 + \\lambda_4 = 0 \\\\\n",
    "\\lambda_2 + 2\\lambda_4 = 0 \\\\\n",
    "2\\lambda_1 + \\lambda_4 = 0\n",
    "\\end{cases}$  \n",
    "\n",
    "Получаем недоопределенную СЛАУ, имеющую бесконечное множество решений. Так же можем сделать вывод о линейной зависимости векторов.  \n",
    "\n",
    "Либо через определитель Вронского,  \n",
    "\n",
    "$ W(x; f_1(x), f_2(x), f_3(x), f_4(x)) = \\begin{vmatrix}\n",
    "2 & x & x^2 & (x+1)^2 \\\\\n",
    "0 & 1 & 2x & 2(x+1) \\\\\n",
    "0 & 0 & 2 & 2 \\\\\n",
    "0 & 0 & 0 & 0 \\\\\n",
    "\\end{vmatrix} = 0 $  \n",
    "\n",
    "Следовательно, есть линейная зависимость"
   ]
  },
  {
   "cell_type": "markdown",
   "id": "facial-rating",
   "metadata": {},
   "source": [
    "___"
   ]
  },
  {
   "cell_type": "markdown",
   "id": "designing-flight",
   "metadata": {},
   "source": [
    "__3.__ Найти координаты вектора $x = (2, 3, 5)\\in \\mathbb{R}^{3}$ в базисе $b_{1}=(0, 0, 10)$, $b_{2}=(2, 0, 0)$, $b_{3}=(0, 1, 0)$."
   ]
  },
  {
   "cell_type": "markdown",
   "id": "acknowledged-precipitation",
   "metadata": {},
   "source": [
    "$$ x = \\frac{1}{2}b_1+b_2+3b_3 = (\\frac{1}{2}, 1, 3) $$"
   ]
  },
  {
   "cell_type": "markdown",
   "id": "juvenile-turner",
   "metadata": {},
   "source": [
    "___"
   ]
  },
  {
   "cell_type": "markdown",
   "id": "inside-singles",
   "metadata": {},
   "source": [
    "__4.__ Найти координаты вектора $3x^{2}-2x+2\\in\\mathbb{R}^{3}[x]$:"
   ]
  },
  {
   "cell_type": "markdown",
   "id": "organizational-mason",
   "metadata": {},
   "source": [
    "а) в базисе $1$, $x$, $x^{2}$;  \n",
    "\n",
    "Обозначим базисные векторы как $e_1, e_2, e_3$ соответственно, а искомый вектор как $a$  \n",
    "\n",
    "Тогда вектор $a$ можно представить как  \n",
    "\n",
    "$ a = 2e_1 + (-2)e_2 + 3e_3 = (2, -2, 3)_{\\{e_1, e_2, e_3\\}} $"
   ]
  },
  {
   "cell_type": "markdown",
   "id": "imperial-valentine",
   "metadata": {},
   "source": [
    "б) в базисе $x^{2}$, $x-1$, $1$.  \n",
    "\n",
    "Аналогично,  \n",
    "$ e_1 = x^2 $  \n",
    "$ e_2 = x-1 $  \n",
    "$ e_3 = 1 $  \n",
    "\n",
    "Тогда,  \n",
    "\n",
    "$ a = 3e_1 + (-2)e_2 + 0e_3 = (3, -2, 0)_{\\{e_1, e_2, e_3\\}} $"
   ]
  },
  {
   "cell_type": "markdown",
   "id": "general-employee",
   "metadata": {},
   "source": [
    "___"
   ]
  },
  {
   "cell_type": "markdown",
   "id": "forbidden-possession",
   "metadata": {},
   "source": [
    "__5.__ Установить, является ли линейным подпространством:"
   ]
  },
  {
   "cell_type": "markdown",
   "id": "express-treasurer",
   "metadata": {},
   "source": [
    "а) совокупность всех векторов трехмерного пространства, у которых по крайней мере одна из первых двух координат равна нулю\n",
    "\n",
    "Совокупность таких векторов можем обозначить как:  \n",
    "\n",
    "$$(0, b, c)$$\n",
    "$$(a, 0, c)$$\n",
    "$$(0, 0, c)$$  \n",
    "\n",
    "Для того, чтобы совокупность таких векторов называлась линейным пространством, необходимо:\n",
    "1) Сумма векторов этого множества должна в результате давать вектор из того же множества  \n",
    "2) Произведение вектора из этого множества на скаляр должна также давать элемент рассматриваемого множества  \n",
    "\n",
    "Легко показать, что несмотря на то, что первое условие не выполняется, так как при сложении, например $(a, 0, c)+(0, b, c)$ получим вектор $(a, b, c)$, который выходит за пределы  пространства"
   ]
  },
  {
   "cell_type": "markdown",
   "id": "adapted-weapon",
   "metadata": {},
   "source": [
    "б) все векторы, являющиеся линейными комбинациями данных векторов $\\{u_{1}, u_{2}, \\ldots, u_{n}\\}$.  \n",
    "\n",
    "Имеем векторы $u_{1}, u_{2}, \\ldots, u_{n}$ и скаляры $\\alpha_{1}, \\alpha_{2}, \\ldots, \\alpha_{n}$.  \n",
    "Тогда вектор $ X = \\alpha_1u_1 + \\alpha_2u_2 + \\ldots, \\alpha_nu_n $ называется линейной комбинацией векторов $u_i$ с коэффициентами $\\alpha_i$  \n",
    "Пусть теперь $ Y = \\beta_1u_1 + \\beta_2u_2 + \\ldots, \\beta_nu_n $ линейная комбинация тех же векторов с коэффициентами $\\beta_i$  \n",
    "\n",
    "Тогда,  \n",
    "\n",
    "$ \\alpha X + \\beta Y = \\alpha(\\alpha_1u_1 + \\alpha_2u_2 + \\ldots, \\alpha_nu_n) + \\beta(\\beta_1u_1 + \\beta_2u_2 + \\ldots, \\beta_nu_n) = (\\alpha\\alpha_1+\\beta\\beta_1)u_1 + \\ldots + (\\alpha\\alpha_n+\\beta\\beta_n)u_n $  \n",
    " \\- снова линейная комбинация векторов $u_i$  \n",
    " \n",
    " Обозначим символом V множество линейных комбинаций векторов $u_i$. Оно так же носит название линейная оболочка системы векторов $u_1, \\ldots, u_n$  \n",
    " \n",
    " Мы видим, что множество V всех линейных комбинаций си-стемы векторов $u_{1}, u_{2}, \\ldots, u_{n}$ обладает свойством:  \n",
    " \n",
    " $$ X, Y \\in V \\Rightarrow \\alpha X + \\beta Y \\in V $$"
   ]
  },
  {
   "cell_type": "markdown",
   "id": "about-producer",
   "metadata": {},
   "source": [
    "Заметим, что любая линейная оболочка является таким множеством V, состоящим из векторов, что на векторах определена операция сложения и для каждого $\\lambda \\in \\mathbb{R}$ операция умножения на данное число $\\lambda$, при этом данное множество V с введенными операциями обладает следующими свойствами:\n",
    "\n",
    "- $ \\forall v,u \\in V v+u = u+v $ (коммутативность сложения векторов)  \n",
    "- $ \\forall u,v,w \\in V (u+v)+w=u+(v+w) $ (ассоциативность сложения векторов)  \n",
    "- $ \\exists 0 \\in V \\forall v \\in V 0+v=v $ (существование нулевого вектора)  \n",
    "- $ \\forall v \\in V \\exists u(=−v) \\in V u+v= 0 $ (существование противоположного вектора)  \n",
    "- $ \\forall \\lambda, \\mu \\in \\mathbb{R}\\forall v \\in V(\\lambda+\\mu)v=\\lambda v+\\mu v $ (дистрибутивность относительно сложения чисел)  \n",
    "- $ \\forall \\lambda \\in \\mathbb{R} \\forall u,v \\in V \\lambda(u+v)=\\lambda u+\\lambda v $ (дистрибутивность относительно сложения векторов)  \n",
    "- $ \\forall \\lambda,\\mu \\in \\mathbb{R} \\forall v \\in V (\\lambda \\mu)v=\\lambda(\\mu v) $ (ассоциативность умножения векторов и чисел)  \n",
    "- $ \\forall v \\in V 1\\cdot v = v $ (нормирование)."
   ]
  },
  {
   "cell_type": "markdown",
   "id": "supposed-leader",
   "metadata": {},
   "source": [
    "Множество, состоящее из векторов, удовлетворяющее этим требованиям является линейным пространством, а значит является таковым и линейная оболочка векторов $u_i$"
   ]
  },
  {
   "cell_type": "markdown",
   "id": "continuous-shelf",
   "metadata": {},
   "source": [
    "___"
   ]
  },
  {
   "cell_type": "markdown",
   "id": "sixth-sound",
   "metadata": {},
   "source": [
    "# Линейное пространство. Основные понятия. Часть 2"
   ]
  },
  {
   "cell_type": "markdown",
   "id": "grave-easter",
   "metadata": {},
   "source": [
    "__1.__ Найти скалярное произведение векторов $x, y \\in \\mathbb{R}$:<br>\n",
    "\n",
    "а) $x=(0,-3, 6),~y=(-4, 7, 9);$<br>\n",
    "б) $x=(7, -4, 0, 1),~y=(-3, 1, 11, 2).$"
   ]
  },
  {
   "cell_type": "markdown",
   "id": "committed-collins",
   "metadata": {},
   "source": [
    "а) $ (x, y) = 0 \\cdot (-4) + (-3) \\cdot 7 + 6 \\cdot 9 = 33 $  \n",
    "б) $ (x, y) = 7 \\cdot (-3) + (-4) \\cdot 1 + 0 \\cdot 11 + 1 \\cdot 2 = -23 $  "
   ]
  },
  {
   "cell_type": "code",
   "execution_count": 2,
   "id": "single-glossary",
   "metadata": {},
   "outputs": [
    {
     "data": {
      "text/plain": [
       "33"
      ]
     },
     "execution_count": 2,
     "metadata": {},
     "output_type": "execute_result"
    }
   ],
   "source": [
    "x = np.array([0, -3, 6])\n",
    "y = np.array([-4, 7, 9])\n",
    "x @ y"
   ]
  },
  {
   "cell_type": "code",
   "execution_count": 3,
   "id": "enabling-worcester",
   "metadata": {},
   "outputs": [
    {
     "data": {
      "text/plain": [
       "-23"
      ]
     },
     "execution_count": 3,
     "metadata": {},
     "output_type": "execute_result"
    }
   ],
   "source": [
    "x = np.array([7, -4, 0, 1])\n",
    "y = np.array([-3, 1, 11, 2])\n",
    "x @ y"
   ]
  },
  {
   "cell_type": "markdown",
   "id": "unlimited-welcome",
   "metadata": {},
   "source": [
    "___"
   ]
  },
  {
   "cell_type": "markdown",
   "id": "banned-premiere",
   "metadata": {},
   "source": [
    "__2.__ Найти нормы векторов $(4, 2, 4)$ и $(12, 3, 4)$ и угол между ними."
   ]
  },
  {
   "cell_type": "markdown",
   "id": "lined-teacher",
   "metadata": {},
   "source": [
    "Найдем евклидову норму:  \n",
    "\n",
    "$$\\left\\|x\\right\\|_{2} = \\sqrt{\\sum_{i}|x_{i}|^{2}}.$$  \n",
    "\n",
    "Обозначим вектора как a и b соответственно. Тогда  \n",
    "\n",
    "$ ||a||_2 = \\sqrt{4^2+2^2+4^2} = \\sqrt{36} = 6 $  \n",
    "$ ||b||_2 = \\sqrt{12^2+3^2+4^2} = \\sqrt{144+9+16} = \\sqrt{169} = 13 $  \n",
    "\n",
    "Найдем косинус угла $\\varphi$ между векторами a и b по следующей формуле:  \n",
    "\n",
    "$$cos\\varphi = \\frac{(a,b)}{\\left \\|a\\right \\|\\cdot\\left \\|b\\right \\|}.$$  \n",
    "\n",
    "$ (a, b) = 4 \\cdot 12 + 2 \\cdot 3 + 4 \\cdot 4 = 48 + 6 + 16 = 70 $  \n",
    "\n",
    "$ cos\\varphi = \\frac{70}{6 \\cdot 13} \\approx 0.897 \\Rightarrow \\varphi \\approx 0.457 $"
   ]
  },
  {
   "cell_type": "code",
   "execution_count": 12,
   "id": "juvenile-services",
   "metadata": {},
   "outputs": [
    {
     "name": "stdout",
     "output_type": "stream",
     "text": [
      "Норма вектора a = 6.0, b = 13.0\n"
     ]
    }
   ],
   "source": [
    "a = np.array([4, 2, 4])\n",
    "b = np.array([12, 3, 4])\n",
    "print(f'Норма вектора a = {norm(a, ord=2)}, b = {norm(b, ord=2)}')"
   ]
  },
  {
   "cell_type": "code",
   "execution_count": 10,
   "id": "constitutional-legislature",
   "metadata": {},
   "outputs": [
    {
     "name": "stdout",
     "output_type": "stream",
     "text": [
      "Косинус угла между a и b: 0.897\n",
      "Угол между a и b: 0.457\n"
     ]
    }
   ],
   "source": [
    "cos_phi = (a @ b) / (norm(a) * norm(b))\n",
    "print(f'Косинус угла между a и b: {cos_phi:.3f}')\n",
    "print(f'Угол между a и b: {np.arccos(cos_phi):.3f}')"
   ]
  },
  {
   "cell_type": "markdown",
   "id": "lined-missouri",
   "metadata": {},
   "source": [
    "___"
   ]
  },
  {
   "cell_type": "markdown",
   "id": "figured-swiss",
   "metadata": {},
   "source": [
    "__3.__ Будет ли линейное пространство евклидовым, если за скалярное произведение принять:  "
   ]
  },
  {
   "cell_type": "markdown",
   "id": "mighty-corporation",
   "metadata": {},
   "source": [
    "а) произведение длин векторов;  \n",
    "б) утроенное обычное скалярное произведение векторов?  "
   ]
  },
  {
   "cell_type": "markdown",
   "id": "composed-drink",
   "metadata": {},
   "source": [
    "Линейное пространство над полем вещественных чисел называется _евклидовым пространством_, если на нем введено правило, согласно которому каждой упорядоченной паре векторов $x$ и $y$ поставлено в соответствие вещественное число, называемое _скалярным произведением_ и обозначаемое символом $(x, y)$.\n",
    "\n",
    "При этом указанное правило должно подчиняться четырем аксиомам:<br>\n",
    "1) $(x,y)=(y,x);$<br>\n",
    "2) $(\\lambda x, y)=\\lambda(x, y);$<br>\n",
    "3) $(x_{1}+x_{2},y)=(x_{1},y)+(x_{2},y);$<br>\n",
    "4) $(x, x)\\geq0$, причем $(x,x)=0\\Leftrightarrow x=0.$"
   ]
  },
  {
   "cell_type": "markdown",
   "id": "legitimate-flesh",
   "metadata": {},
   "source": [
    "а)  \n",
    "Пусть  \n",
    "\n",
    "$ (x, y) = |x| \\cdot |y| $  \n",
    "\n",
    "Легко видеть, что все требования будут выполняться, поэтому пространство евклидово"
   ]
  },
  {
   "cell_type": "markdown",
   "id": "urban-bloom",
   "metadata": {},
   "source": [
    "б)  \n",
    "\"Обычное\" скалярное произведение примем равным:  \n",
    "\n",
    "$ (x, y) = |x|\\cdot|y|\\cos{\\varphi} $ Следовательно, его утроенный вариант $ (x, y) = 3|x|\\cdot|y|\\cos{\\varphi} $  \n",
    "\n",
    "аналогично с предыдущим примером, требования выполняются, поэтому пространство евклидово"
   ]
  },
  {
   "cell_type": "markdown",
   "id": "younger-oxygen",
   "metadata": {},
   "source": [
    "___"
   ]
  },
  {
   "cell_type": "markdown",
   "id": "ultimate-haven",
   "metadata": {},
   "source": [
    "__4.__ Какие из нижеперечисленных векторов образуют ортонормированный базис в линейном пространстве $\\mathbb{R}^{3}$:"
   ]
  },
  {
   "cell_type": "markdown",
   "id": "narrative-arizona",
   "metadata": {},
   "source": [
    "_В конечномерном евклидовом пространстве базис $\\{e_{1},e_{2},...,e_{n}\\}$ называется ортонормированным, если_ \n",
    "\n",
    "$(e_{i}, e_{j})=0$ $\\forall$ $i\\neq j$  \n",
    "\n",
    "_Скалярное произведение любых пар векторов образующих базис равно нулю, то есть векторы ортогональны._  \n",
    "\n",
    "\n",
    "$ (e_{i},e_{i})=1 \\forall i\\in [1, n] $  \n",
    "\n",
    "_Скалярное произведение базисного вектора самого на себя равно 1, то есть векторы единичные_"
   ]
  },
  {
   "cell_type": "markdown",
   "id": "processed-motel",
   "metadata": {},
   "source": [
    "#### а) $(1,0,0),(0,0,1);$  \n",
    "\n",
    "Не являются базисом $\\mathbb{R}^{3}$, так как с помощью двух векторов невозможно составить базис линейного пространства $\\mathbb{R}^{3}$"
   ]
  },
  {
   "cell_type": "markdown",
   "id": "multiple-belief",
   "metadata": {},
   "source": [
    "#### б) $(\\frac{1}{\\sqrt{2}},-\\frac{1}{\\sqrt{2}},0),(\\frac{1}{\\sqrt{2}},\\frac{1}{\\sqrt{2}},0), (0,0,1);$  "
   ]
  },
  {
   "cell_type": "markdown",
   "id": "specific-canyon",
   "metadata": {},
   "source": [
    "Рассмотрим скалярное произведение первого вектора на второй  \n",
    "\n",
    "$ \\frac{1}{\\sqrt{2}} \\cdot \\frac{1}{\\sqrt{2}} + (-\\frac{1}{\\sqrt{2}})\\cdot \\frac{1}{\\sqrt{2}} + 0 \\cdot 0 = 0 $  \n",
    "\n",
    "Аналогично, получим, что остальные скалярные произведения векторов между собой также равны 0  \n",
    "\n",
    "Оценим скалярные произведения векторов на самих себя  \n",
    "\n",
    "Для первого вектора:  \n",
    "$ \\frac{1}{\\sqrt{2}} \\cdot \\frac{1}{\\sqrt{2}} + (- \\frac{1}{\\sqrt{2}}) \\cdot (-\\frac{1}{\\sqrt{2}}) + 0 \\cdot 0 = 1$  \n",
    "\n",
    "Для остальных результат такой же. Делаем вывод, что векторы образуют ортонормированый базис "
   ]
  },
  {
   "cell_type": "markdown",
   "id": "protective-enterprise",
   "metadata": {},
   "source": [
    "#### в) $(\\frac{1}{2}, -\\frac{1}{2}, 0), (0, \\frac{1}{2}, \\frac{1}{2}), (0,0,1);$  "
   ]
  },
  {
   "cell_type": "markdown",
   "id": "differential-parts",
   "metadata": {},
   "source": [
    "Аналогично с предыдущим примером,  \n",
    "\n",
    "$ \\frac{1}{2} \\cdot 0 + (-\\frac{1}{2})\\cdot \\frac{1}{2} + 0 \\cdot \\frac{1}{2} = -\\frac{1}{4} \\neq 0 $  \n",
    "\n",
    "Очевидно, что векторы не ортогональны"
   ]
  },
  {
   "cell_type": "markdown",
   "id": "recorded-norfolk",
   "metadata": {},
   "source": [
    "#### г) $(1,0,0),(0,1,0),(0,0,1)?$  \n",
    "\n",
    "Образуют базис"
   ]
  }
 ],
 "metadata": {
  "kernelspec": {
   "display_name": "Python 3",
   "language": "python",
   "name": "python3"
  },
  "language_info": {
   "codemirror_mode": {
    "name": "ipython",
    "version": 3
   },
   "file_extension": ".py",
   "mimetype": "text/x-python",
   "name": "python",
   "nbconvert_exporter": "python",
   "pygments_lexer": "ipython3",
   "version": "3.8.8"
  },
  "varInspector": {
   "cols": {
    "lenName": 16,
    "lenType": 16,
    "lenVar": 40
   },
   "kernels_config": {
    "python": {
     "delete_cmd_postfix": "",
     "delete_cmd_prefix": "del ",
     "library": "var_list.py",
     "varRefreshCmd": "print(var_dic_list())"
    },
    "r": {
     "delete_cmd_postfix": ") ",
     "delete_cmd_prefix": "rm(",
     "library": "var_list.r",
     "varRefreshCmd": "cat(var_dic_list()) "
    }
   },
   "types_to_exclude": [
    "module",
    "function",
    "builtin_function_or_method",
    "instance",
    "_Feature"
   ],
   "window_display": false
  }
 },
 "nbformat": 4,
 "nbformat_minor": 5
}
