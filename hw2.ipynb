{
 "cells": [
  {
   "cell_type": "code",
   "execution_count": 44,
   "id": "thorough-playback",
   "metadata": {},
   "outputs": [],
   "source": [
    "import numpy as np\n",
    "from random import randint"
   ]
  },
  {
   "cell_type": "markdown",
   "id": "capital-court",
   "metadata": {},
   "source": [
    "# Матрицы и матричные операции. Часть 1"
   ]
  },
  {
   "cell_type": "markdown",
   "id": "central-biography",
   "metadata": {},
   "source": [
    "__1.__ Установить, какие произведения матриц $AB$ и $BA$ определены, и найти размерности полученных матриц:\n",
    "\n",
    "   а) $A$ — матрица $4\\times 2$, $B$ — матрица $4\\times 2$;  \n",
    "   Операции произведения не определены\n",
    "    \n",
    "   б) $A$ — матрица $2\\times 5$, $B$ — матрица $5\\times 3$;  \n",
    "   Определена операция $AB$, рамерность итоговой матрицы - $2 \\times 3$\n",
    "    \n",
    "   в) $A$ — матрица $8\\times 3$, $B$ — матрица $3\\times 8$;  \n",
    "   Определены операции $AB, BA$, рамерность итоговых матриц - $8 \\times 8$ и $3 \\times 3$ соответственно\n",
    "    \n",
    "   г) $A$ — квадратная матрица $4\\times 4$, $B$ — квадратная матрица $4\\times 4$.  \n",
    "   Определены операции $AB, BA$, рамерность итоговых матриц - $4 \\times 4$\n",
    "   \n",
    "    "
   ]
  },
  {
   "cell_type": "markdown",
   "id": "legitimate-filing",
   "metadata": {},
   "source": [
    "___"
   ]
  },
  {
   "cell_type": "markdown",
   "id": "educational-patio",
   "metadata": {},
   "source": [
    "__2.__ Найти сумму и произведение матриц $A=\\begin{pmatrix}\n",
    "1 & -2\\\\ \n",
    "3 & 0\n",
    "\\end{pmatrix}$ и $B=\\begin{pmatrix}\n",
    "4 & -1\\\\ \n",
    "0 & 5\n",
    "\\end{pmatrix}.$"
   ]
  },
  {
   "cell_type": "markdown",
   "id": "diverse-culture",
   "metadata": {},
   "source": [
    "$A + B = \\begin{pmatrix} 1 & -2\\\\ 3 & 0 \\end{pmatrix} + \\begin{pmatrix} 4 & -1\\\\ 0 & 5 \\end{pmatrix} = \n",
    "\\begin{pmatrix} 1+4 & -2+(-1)\\\\ 3+0 & 0+5 \\end{pmatrix} = \\begin{pmatrix} 5 & -3\\\\ 3 & 5 \\end{pmatrix}$  \n",
    "\n",
    "$A \\cdot B = \\begin{pmatrix} 1 & -2\\\\ 3 & 0 \\end{pmatrix} \\cdot \\begin{pmatrix} 4 & -1\\\\ 0 & 5 \\end{pmatrix} = \n",
    "\\begin{pmatrix} 1 \\cdot 4 + (-2) \\cdot 0 & 1 \\cdot (-1)+ (-2) \\cdot 5\\\\ 3 \\cdot 4 + 0 \\cdot 0 & 3 \\cdot (-1) + 0 \\cdot 5 \\end{pmatrix} = \\begin{pmatrix} 4 & -11\\\\ 12 & -3 \\end{pmatrix}$\n",
    "\n",
    "$B \\cdot A =  \\begin{pmatrix} 4 & -1\\\\ 0 & 5 \\end{pmatrix} \\cdot \\begin{pmatrix} 1 & -2\\\\ 3 & 0 \\end{pmatrix} = \n",
    "\\begin{pmatrix} \n",
    "4 \\cdot 1 + (-1) \\cdot 3 & 4 \\cdot (-2)+ (-1) \\cdot 0 \\\\ \n",
    "0 \\cdot 1 + 5 \\cdot 3 & 0 \\cdot (-2) + 5 \\cdot 0 \n",
    "\\end{pmatrix} = \n",
    "\\begin{pmatrix} \n",
    "1 & -8\\\\ \n",
    "15 & 0 \n",
    "\\end{pmatrix}$\n"
   ]
  },
  {
   "cell_type": "code",
   "execution_count": 2,
   "id": "dense-switzerland",
   "metadata": {},
   "outputs": [
    {
     "data": {
      "text/plain": [
       "(array([[ 5, -3],\n",
       "        [ 3,  5]]),\n",
       " array([[  4, -11],\n",
       "        [ 12,  -3]]),\n",
       " array([[ 1, -8],\n",
       "        [15,  0]]))"
      ]
     },
     "execution_count": 2,
     "metadata": {},
     "output_type": "execute_result"
    }
   ],
   "source": [
    "a = np.array([1, -2, 3, 0]).reshape(2, 2)\n",
    "b = np.array([4, -1, 0, 5]).reshape(2, 2)\n",
    "a+b, a @ b, b @ a"
   ]
  },
  {
   "cell_type": "markdown",
   "id": "steady-template",
   "metadata": {},
   "source": [
    "___"
   ]
  },
  {
   "cell_type": "markdown",
   "id": "excessive-swedish",
   "metadata": {},
   "source": [
    "__3.__ Из закономерностей сложения и умножения матриц на число можно сделать вывод, что матрицы одного размера образуют линейное пространство. Вычислить линейную комбинацию $3A-2B+4C$ для матриц $A=\\begin{pmatrix}\n",
    "1 & 7\\\\ \n",
    "3 & -6\n",
    "\\end{pmatrix}$, $B=\\begin{pmatrix}\n",
    "0 & 5\\\\ \n",
    "2 & -1\n",
    "\\end{pmatrix}$, $C=\\begin{pmatrix}\n",
    "2 & -4\\\\ \n",
    "1 & 1\n",
    "\\end{pmatrix}.$\n",
    "    "
   ]
  },
  {
   "cell_type": "markdown",
   "id": "missing-radiation",
   "metadata": {},
   "source": [
    "$ 3A-2B+4C = \n",
    "3 \\cdot \\begin{pmatrix}\n",
    "1 & 7\\\\ \n",
    "3 & -6\n",
    "\\end{pmatrix} \n",
    "-2 \\cdot \\begin{pmatrix}\n",
    "0 & 5\\\\ \n",
    "2 & -1\n",
    "\\end{pmatrix}\n",
    "+4 \\cdot \\begin{pmatrix}\n",
    "2 & -4\\\\ \n",
    "1 & 1\n",
    "\\end{pmatrix} = \n",
    "\\begin{pmatrix}\n",
    "3 & 21\\\\ \n",
    "9 & -18\n",
    "\\end{pmatrix} \n",
    "+ \\begin{pmatrix}\n",
    "0 & -10\\\\ \n",
    "-4 & 2\n",
    "\\end{pmatrix}\n",
    "+ \\begin{pmatrix}\n",
    "9 & -16\\\\ \n",
    "4 & 4\n",
    "\\end{pmatrix} = \n",
    "\\begin{pmatrix}\n",
    "11 & -5\\\\ \n",
    "9 & -12\n",
    "\\end{pmatrix}$\n",
    "\n"
   ]
  },
  {
   "cell_type": "code",
   "execution_count": 3,
   "id": "promising-efficiency",
   "metadata": {},
   "outputs": [
    {
     "data": {
      "text/plain": [
       "array([[ 11,  -5],\n",
       "       [  9, -12]])"
      ]
     },
     "execution_count": 3,
     "metadata": {},
     "output_type": "execute_result"
    }
   ],
   "source": [
    "a = np.array([1, 7, 3, -6]).reshape(2, 2)\n",
    "b = np.array([0, 5, 2, -1]).reshape(2, 2)\n",
    "c = np.array([2, -4, 1, 1]).reshape(2, 2)\n",
    "3 * a - 2 * b + 4 * c"
   ]
  },
  {
   "cell_type": "markdown",
   "id": "random-thought",
   "metadata": {},
   "source": [
    "___"
   ]
  },
  {
   "cell_type": "markdown",
   "id": "pressing-monitoring",
   "metadata": {},
   "source": [
    "__4.__ Дана матрица $A=\\begin{pmatrix}\n",
    "4 & 1\\\\ \n",
    "5 & -2\\\\ \n",
    "2 & 3\n",
    "\\end{pmatrix}$.\n",
    "Вычислить $AA^{T}$ и $A^{T}A$.  \n",
    "\n"
   ]
  },
  {
   "cell_type": "markdown",
   "id": "angry-detective",
   "metadata": {},
   "source": [
    "$A=\\begin{pmatrix}\n",
    "4 & 1\\\\ \n",
    "5 & -2\\\\ \n",
    "2 & 3\n",
    "\\end{pmatrix}$  \n",
    "\n",
    "$A^T=\\begin{pmatrix}\n",
    "4 & 5 & 2\\\\ \n",
    "1 & -2 & 3\n",
    "\\end{pmatrix}$  "
   ]
  },
  {
   "cell_type": "markdown",
   "id": "disciplinary-rider",
   "metadata": {},
   "source": [
    "$ AA^T = \\begin{pmatrix}4 & 1\\\\ 5 & -2\\\\ 2 & 3 \\end{pmatrix} \\cdot \\begin{pmatrix} 4 & 5 & 2\\\\ 1 & -2 & 3 \\end{pmatrix}  = \n",
    "\\begin{pmatrix} \n",
    "4 \\cdot 4 + 1 \\cdot 1 & 4 \\cdot 5 + 1 \\cdot (-2) & 4 \\cdot 2 + 1 \\cdot 3 \\\\ \n",
    "5 \\cdot 4 + (-2) \\cdot 1 & 5 \\cdot 5 + (-2) \\cdot (-2) & 5 \\cdot 2 + (-2) \\cdot 3 \\\\ \n",
    "2 \\cdot 4 + 3 \\cdot 1 & 2 \\cdot 5 + 3 \\cdot (-2) & 2 \\cdot 2 + 3 \\cdot 3 \\\\\n",
    "\\end{pmatrix} = \n",
    "\\begin{pmatrix} \n",
    "17 & 18 & 11 \\\\ \n",
    "18 & 29 & 4 \\\\ \n",
    "11 & 4 & 13 \\\\\n",
    "\\end{pmatrix}$"
   ]
  },
  {
   "cell_type": "markdown",
   "id": "certain-amplifier",
   "metadata": {},
   "source": [
    "$ A^TA = \\begin{pmatrix} 4 & 5 & 2\\\\ 1 & -2 & 3 \\end{pmatrix} \\cdot \\begin{pmatrix}4 & 1\\\\ 5 & -2\\\\ 2 & 3 \\end{pmatrix} = \\begin{pmatrix}\n",
    "4 \\cdot 4 + 5 \\cdot 5 + 2 \\cdot 2 & 4 \\cdot 1 + 5 \\cdot (-2) + 2 \\cdot 3 \\\\ \n",
    "1 \\cdot 4 + (-2) \\cdot 5 + 3 \\cdot 2 & 1 \\cdot 1 + (-2) \\cdot (-2) + 3 \\cdot 3 \\\\ \n",
    "\\end{pmatrix} = \n",
    "\\begin{pmatrix}\n",
    "45 & 0 \\\\ \n",
    "0 & 14 \\\\ \n",
    "\\end{pmatrix}$"
   ]
  },
  {
   "cell_type": "code",
   "execution_count": 4,
   "id": "intended-ordering",
   "metadata": {},
   "outputs": [
    {
     "data": {
      "text/plain": [
       "(array([[17, 18, 11],\n",
       "        [18, 29,  4],\n",
       "        [11,  4, 13]]),\n",
       " array([[45,  0],\n",
       "        [ 0, 14]]))"
      ]
     },
     "execution_count": 4,
     "metadata": {},
     "output_type": "execute_result"
    }
   ],
   "source": [
    "a = np.array([4, 1, 5, -2, 2, 3]).reshape(3, 2)\n",
    "a @ a.T, a.T @ a"
   ]
  },
  {
   "cell_type": "markdown",
   "id": "caroline-footage",
   "metadata": {},
   "source": [
    "___"
   ]
  },
  {
   "cell_type": "markdown",
   "id": "floral-genealogy",
   "metadata": {},
   "source": [
    "__5*.__ Написать на Python функцию для перемножения двух произвольных матриц, не используя NumPy."
   ]
  },
  {
   "cell_type": "code",
   "execution_count": 68,
   "id": "injured-specialist",
   "metadata": {},
   "outputs": [],
   "source": [
    "def mul_mx(mx_1, mx_2):\n",
    "    if len(mx_1) != len(mx_2[0]):\n",
    "        return None\n",
    "    part = []\n",
    "    result = []\n",
    "    cm_sm = 0\n",
    "    for i in range(len(mx_1)):\n",
    "        for j in range(len(mx_2[0])):\n",
    "            for k in range(len(mx_1[0])):\n",
    "                cm_sm += mx_1[i][k] * mx_2[k][j]\n",
    "            part.append(cm_sm)\n",
    "            cm_sm = 0\n",
    "        result.append(part.copy())\n",
    "        part.clear()\n",
    "    return result    "
   ]
  },
  {
   "cell_type": "code",
   "execution_count": 69,
   "id": "elder-boulder",
   "metadata": {},
   "outputs": [
    {
     "name": "stdout",
     "output_type": "stream",
     "text": [
      "[[-134, 132, -10, -76, 86], [115, 58, 51, 12, -23], [41, -50, 10, -49, -61], [32, 99, -35, 13, 1], [-65, 23, 31, -8, 60]]\n",
      "[[-134  132  -10  -76   86]\n",
      " [ 115   58   51   12  -23]\n",
      " [  41  -50   10  -49  -61]\n",
      " [  32   99  -35   13    1]\n",
      " [ -65   23   31   -8   60]]\n"
     ]
    }
   ],
   "source": [
    "m, n = 4, 5\n",
    "make_mx = lambda x, y: [[randint(-10, 10) for _j in range(y)] \n",
    "                        for _i in range(x)]\n",
    "c, d = make_mx(m, n), make_mx(n, m)\n",
    "c_n, d_n = np.array(c).reshape(m, n), np.array(d).reshape(n, m)\n",
    "print(mul_mx(d, c))\n",
    "print(d_n @ c_n)"
   ]
  },
  {
   "cell_type": "markdown",
   "id": "together-dictionary",
   "metadata": {},
   "source": [
    "___"
   ]
  },
  {
   "cell_type": "markdown",
   "id": "gentle-illinois",
   "metadata": {},
   "source": [
    "# Матрицы и матричные операции. Часть 2"
   ]
  },
  {
   "cell_type": "markdown",
   "id": "composed-ladder",
   "metadata": {},
   "source": [
    "__1.__ Вычислить определитель:\n",
    "\n",
    "   a)\n",
    "\n",
    "$$\\begin{vmatrix}\n",
    "sinx & -cosx\\\\ \n",
    "cosx & sinx\n",
    "\\end{vmatrix};$$  \n",
    "\n",
    "$ det = \\sin{x} \\cdot \\sin{x} - \\cos{x} \\cdot (-\\cos{x}) = \\sin^2{x}+\\cos^2{x} = 1 $"
   ]
  },
  {
   "cell_type": "markdown",
   "id": "american-gallery",
   "metadata": {},
   "source": [
    "   б)\n",
    "    \n",
    "$$\\begin{vmatrix}\n",
    "4 & 2 & 3\\\\ \n",
    "0 & 5 & 1\\\\ \n",
    "0 & 0 & 9\n",
    "\\end{vmatrix};$$\n",
    "\n",
    "$ det = 4 \\cdot 5 \\cdot 9 = 180 $"
   ]
  },
  {
   "cell_type": "code",
   "execution_count": 20,
   "id": "romantic-charity",
   "metadata": {},
   "outputs": [
    {
     "name": "stdout",
     "output_type": "stream",
     "text": [
      "180\n"
     ]
    }
   ],
   "source": [
    "a = np.array([4, 2, 3, 0, 5, 1, 0, 0, 9]).reshape(3, 3)\n",
    "print(f'{np.linalg.det(a):.0f}')"
   ]
  },
  {
   "cell_type": "markdown",
   "id": "trained-native",
   "metadata": {},
   "source": [
    "   в)\n",
    "\n",
    "$$\\begin{vmatrix}\n",
    "1 & 2 & 3\\\\ \n",
    "4 & 5 & 6\\\\ \n",
    "7 & 8 & 9\n",
    "\\end{vmatrix}.$$  \n",
    "\n",
    "$ det = 1 \\cdot \n",
    "\\begin{vmatrix}\n",
    "5 & 6\\\\ \n",
    "8 & 9\n",
    "\\end{vmatrix} - 2 \\cdot \n",
    "\\begin{vmatrix}\n",
    "4 & 6\\\\ \n",
    "7 & 9\n",
    "\\end{vmatrix} + 3 \\cdot \n",
    "\\begin{vmatrix}\n",
    "4 & 5\\\\ \n",
    "7 & 8\n",
    "\\end{vmatrix} = -3 - (-12) + 3(-3) = 0$"
   ]
  },
  {
   "cell_type": "code",
   "execution_count": 19,
   "id": "fewer-litigation",
   "metadata": {},
   "outputs": [
    {
     "name": "stdout",
     "output_type": "stream",
     "text": [
      "-0\n"
     ]
    }
   ],
   "source": [
    "a = np.arange(1, 10).reshape(3, 3)\n",
    "print(f'{np.linalg.det(a):.0f}')"
   ]
  },
  {
   "cell_type": "markdown",
   "id": "informational-longitude",
   "metadata": {},
   "source": [
    "___"
   ]
  },
  {
   "cell_type": "markdown",
   "id": "going-quick",
   "metadata": {},
   "source": [
    "__2.__ Определитель матрицы $A$ равен $4$. Найти:"
   ]
  },
  {
   "cell_type": "markdown",
   "id": "fourth-password",
   "metadata": {},
   "source": [
    "   а) $det(A^{2})$;\n",
    "   \n",
    "   $ det(AB) = detA \\cdot detB \\Rightarrow det(A^2) = det(A \\cdot A) = detA \\cdot detA = 4 \\cdot 4 = 16 $"
   ]
  },
  {
   "cell_type": "markdown",
   "id": "initial-actress",
   "metadata": {},
   "source": [
    "   б) $det(A^{T})$;  \n",
    "   \n",
    "   $detA^T = detA = 4 $"
   ]
  },
  {
   "cell_type": "markdown",
   "id": "appreciated-things",
   "metadata": {},
   "source": [
    "   в) $det(2A)$.\n",
    "   \n",
    "   Согласно свойству определителя, умножение строки или столбца матрицы на число $\\lambda$ приведет к умножению определителя матрицы на то же число. Отсюда, если мы умножаем матрицу размерности $m$ на число $\\lambda$, мы умножаем каждую строку/столбец на это число, а значит, мы умножаем итоговый определитель на число $\\lambda$, $m$ раз.  \n",
    "   \n",
    "   $ |\\lambda A| = \\lambda^m|A| $  \n",
    "   \n",
    "   Или, в нашем случае  \n",
    "   \n",
    "   $ |2A| = 2^m\\cdot4 = 2^{m+2} $"
   ]
  },
  {
   "cell_type": "markdown",
   "id": "certified-burden",
   "metadata": {},
   "source": [
    "___"
   ]
  },
  {
   "cell_type": "markdown",
   "id": "advance-vietnamese",
   "metadata": {},
   "source": [
    "__3.__  Доказать, что матрица\n",
    "\n",
    "$$\\begin{pmatrix}\n",
    "-2 & 7 & -3\\\\ \n",
    "4 & -14 & 6\\\\ \n",
    "-3 & 7 & 13\n",
    "\\end{pmatrix}$$\n",
    "   \n",
    "вырожденная."
   ]
  },
  {
   "cell_type": "markdown",
   "id": "thermal-companion",
   "metadata": {},
   "source": [
    "$ det = -2 \\cdot \n",
    "\\begin{vmatrix}\n",
    "-14 & 6\\\\ \n",
    "7 & 13\n",
    "\\end{vmatrix} - 7 \\cdot \n",
    "\\begin{vmatrix}\n",
    "4 & 6\\\\ \n",
    "-3 & 13\n",
    "\\end{vmatrix} + (-3) \\cdot \n",
    "\\begin{vmatrix}\n",
    "4 & -14\\\\ \n",
    "-3 & 7\n",
    "\\end{vmatrix} = 448 - 490 + 42 = 0$"
   ]
  },
  {
   "cell_type": "code",
   "execution_count": 22,
   "id": "large-visit",
   "metadata": {},
   "outputs": [
    {
     "name": "stdout",
     "output_type": "stream",
     "text": [
      "0\n"
     ]
    }
   ],
   "source": [
    "a = np.array([-2, 7, -3, 4, -14, 6, -3, 7, 13]).reshape(3, 3)\n",
    "print(f'{np.linalg.det(a):.0f}')"
   ]
  },
  {
   "cell_type": "markdown",
   "id": "independent-spencer",
   "metadata": {},
   "source": [
    "__4.__ Найти ранг матрицы:"
   ]
  },
  {
   "cell_type": "markdown",
   "id": "honey-arrival",
   "metadata": {},
   "source": [
    "   а) $\\begin{pmatrix}\n",
    "1 & 2 & 3\\\\ \n",
    "1 & 1 & 1\\\\ \n",
    "2 & 3 & 4\n",
    "\\end{pmatrix};$  \n",
    "\n",
    "Третья строка может быть представлена, как сумма первых двух строк, поэтому отбросим ее\n",
    "\n",
    "$\\begin{pmatrix}\n",
    "1 & 2 & 3\\\\ \n",
    "1 & 1 & 1\\\\ \n",
    "\\end{pmatrix}$  \n",
    "\n",
    "Видим, что определитель любого минора 2го порядка не равен 0, а значит ранг исходной матрицы равен 2"
   ]
  },
  {
   "cell_type": "code",
   "execution_count": 33,
   "id": "bibliographic-burden",
   "metadata": {},
   "outputs": [
    {
     "data": {
      "text/plain": [
       "2"
      ]
     },
     "execution_count": 33,
     "metadata": {},
     "output_type": "execute_result"
    }
   ],
   "source": [
    "a = np.array([1, 2, 3, 1, 1, 1, 2, 3, 4]).reshape(3, 3)\n",
    "np.linalg.matrix_rank(a)"
   ]
  },
  {
   "cell_type": "markdown",
   "id": "reserved-modification",
   "metadata": {},
   "source": [
    "   б) $\\begin{pmatrix}\n",
    "0 & 0 & 2 & 1\\\\ \n",
    "0 & 0 & 2 & 2\\\\ \n",
    "0 & 0 & 4 & 3\\\\ \n",
    "2 & 3 & 5 & 6\n",
    "\\end{pmatrix}$"
   ]
  },
  {
   "cell_type": "markdown",
   "id": "exterior-fruit",
   "metadata": {},
   "source": [
    "Сначала проверим, есть ли отличный от нуля определитель у исходной матрицы. Разложим по первому столбцу\n",
    "\n",
    "$det = 2 \\cdot \n",
    "\\begin{pmatrix}\n",
    "0 & 2 & 1\\\\ \n",
    "0 & 2 & 2\\\\ \n",
    "0 & 4 & 3\\\\ \n",
    "\\end{pmatrix} = 0$  \n",
    "\n",
    "Видим, что максимальный ранг матрицы меньше 4  \n",
    "\n",
    "Найдем ранг определитель минора 3го порядка, например  \n",
    "\n",
    "$det = \\begin{pmatrix}\n",
    "0 & 2 & 2\\\\ \n",
    "0 & 4 & 3\\\\ \n",
    "3 & 5 & 6\n",
    "\\end{pmatrix} = 3 \\cdot \n",
    "\\begin{pmatrix}\n",
    "2 & 2\\\\ \n",
    "4 & 3\\\\ \n",
    "\\end{pmatrix} = -6 \\neq 0$  \n",
    "\n",
    "Следовательно ранг матрицы равен 3"
   ]
  },
  {
   "cell_type": "code",
   "execution_count": 39,
   "id": "bulgarian-season",
   "metadata": {},
   "outputs": [
    {
     "data": {
      "text/plain": [
       "3"
      ]
     },
     "execution_count": 39,
     "metadata": {},
     "output_type": "execute_result"
    }
   ],
   "source": [
    "a = np.array([0, 0, 2, 1, 0, 0, 2, 2, 0, 0, 4, 3, 2, 3, 5, 6]).reshape(4, 4)\n",
    "np.linalg.matrix_rank(a)"
   ]
  }
 ],
 "metadata": {
  "kernelspec": {
   "display_name": "Python 3",
   "language": "python",
   "name": "python3"
  },
  "language_info": {
   "codemirror_mode": {
    "name": "ipython",
    "version": 3
   },
   "file_extension": ".py",
   "mimetype": "text/x-python",
   "name": "python",
   "nbconvert_exporter": "python",
   "pygments_lexer": "ipython3",
   "version": "3.8.8"
  },
  "varInspector": {
   "cols": {
    "lenName": 16,
    "lenType": 16,
    "lenVar": 40
   },
   "kernels_config": {
    "python": {
     "delete_cmd_postfix": "",
     "delete_cmd_prefix": "del ",
     "library": "var_list.py",
     "varRefreshCmd": "print(var_dic_list())"
    },
    "r": {
     "delete_cmd_postfix": ") ",
     "delete_cmd_prefix": "rm(",
     "library": "var_list.r",
     "varRefreshCmd": "cat(var_dic_list()) "
    }
   },
   "types_to_exclude": [
    "module",
    "function",
    "builtin_function_or_method",
    "instance",
    "_Feature"
   ],
   "window_display": false
  }
 },
 "nbformat": 4,
 "nbformat_minor": 5
}
